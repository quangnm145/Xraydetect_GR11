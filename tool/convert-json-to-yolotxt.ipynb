{
  "nbformat": 4,
  "nbformat_minor": 0,
  "metadata": {
    "colab": {
      "provenance": []
    },
    "kernelspec": {
      "name": "python3",
      "display_name": "Python 3"
    },
    "language_info": {
      "name": "python"
    }
  },
  "cells": [
    {
      "cell_type": "code",
      "execution_count": null,
      "metadata": {
        "id": "XgerTMXgE-1K"
      },
      "outputs": [],
      "source": [
        "import logging\n",
        "logging.getLogger().setLevel(logging.CRITICAL)\n",
        "!pip install pylabel > /dev/null"
      ]
    },
    {
      "cell_type": "code",
      "source": [
        "from pylabel import importer"
      ],
      "metadata": {
        "id": "xXdhSUVPE_VT"
      },
      "execution_count": null,
      "outputs": []
    },
    {
      "cell_type": "code",
      "source": [
        "import os \n",
        "import zipfile\n",
        "\n",
        "\n",
        "#Specify path to the coco.json file\n",
        "path_to_annotations = \"/content/xray_test_hidden.json\"\n",
        "#Specify the path to the images (if they are in a different folder than the annotations)\n",
        "path_to_images = \"\"\n",
        "\n",
        "#Import the dataset into the pylable schema \n",
        "dataset = importer.ImportCoco(path_to_annotations, path_to_images=path_to_images, name=\"BCCD_coco\")\n",
        "dataset.df.head(6)"
      ],
      "metadata": {
        "id": "pNZFRo_AFa7U"
      },
      "execution_count": null,
      "outputs": []
    },
    {
      "cell_type": "code",
      "source": [
        "print(f\"Number of images: {dataset.analyze.num_images}\")\n",
        "print(f\"Number of classes: {dataset.analyze.num_classes}\")\n",
        "print(f\"Classes:{dataset.analyze.classes}\")\n",
        "print(f\"Class counts:\\n{dataset.analyze.class_counts}\")\n",
        "print(f\"Path to annotations:\\n{dataset.path_to_annotations}\")"
      ],
      "metadata": {
        "id": "1TJyvc_IFfVy",
        "colab": {
          "base_uri": "https://localhost:8080/"
        },
        "outputId": "cc9b9ff0-2837-4498-d65c-90d058bb37dc"
      },
      "execution_count": null,
      "outputs": [
        {
          "output_type": "stream",
          "name": "stdout",
          "text": [
            "Number of images: 5005\n",
            "Number of classes: 12\n",
            "Classes:['Baton', 'Pliers', 'Hammer', 'Powerbank', 'Scissors', 'Wrench', 'Gun', 'Bullet', 'Sprayer', 'HandCuffs', 'Knife', 'Lighter']\n",
            "Class counts:\n",
            "Gun          519\n",
            "Scissors     503\n",
            "Knife        502\n",
            "Pliers       502\n",
            "Wrench       501\n",
            "Hammer       470\n",
            "Lighter      407\n",
            "Powerbank    401\n",
            "Sprayer      400\n",
            "HandCuffs    302\n",
            "Bullet       299\n",
            "Baton        202\n",
            "Name: cat_name, dtype: int64\n",
            "Path to annotations:\n",
            "/content\n"
          ]
        }
      ]
    },
    {
      "cell_type": "code",
      "source": [
        "dataset.path_to_annotations = \"data/yolo\"\n",
        "dataset.export.ExportToYoloV5()[0]"
      ],
      "metadata": {
        "colab": {
          "base_uri": "https://localhost:8080/",
          "height": 55
        },
        "id": "J8YORFBXFtEP",
        "outputId": "755f0f36-9d92-4427-cfdf-78a53ec03799"
      },
      "execution_count": null,
      "outputs": [
        {
          "output_type": "stream",
          "name": "stderr",
          "text": [
            "Exporting YOLO files...: 100%|██████████| 5005/5005 [00:13<00:00, 364.24it/s]\n"
          ]
        },
        {
          "output_type": "execute_result",
          "data": {
            "text/plain": [
              "'training/dataset.yaml'"
            ],
            "application/vnd.google.colaboratory.intrinsic+json": {
              "type": "string"
            }
          },
          "metadata": {},
          "execution_count": 16
        }
      ]
    },
    {
      "cell_type": "code",
      "source": [
        "!zip -r xraylabelhidden.zip training\n",
        "from google.colab import files\n",
        "files.download('xraylabelhidden.zip')\n"
      ],
      "metadata": {
        "id": "SzpOkQ0HIJEM"
      },
      "execution_count": null,
      "outputs": []
    },
    {
      "cell_type": "code",
      "source": [
        "!rm -r /content/training\n"
      ],
      "metadata": {
        "id": "U1B4pqNhSpx4"
      },
      "execution_count": null,
      "outputs": []
    }
  ]
}